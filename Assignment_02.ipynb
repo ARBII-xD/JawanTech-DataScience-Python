{
 "cells": [
  {
   "cell_type": "code",
   "execution_count": 34,
   "metadata": {},
   "outputs": [],
   "source": [
    "ENG = 90\n",
    "MATHS = 88\n",
    "ISL = 85\n",
    "TOTAL = 300\n",
    "MARKS_OBTAINED = ENG+MATHS+ISL"
   ]
  },
  {
   "cell_type": "code",
   "execution_count": 39,
   "metadata": {},
   "outputs": [],
   "source": [
    "TOTAL_PERCENTAGE= (MARKS_OBTAINED/TOTAL)*100\n",
    "TOTAL_PERCENTAGE = round(TOTAL_PERCENTAGE, 2)"
   ]
  },
  {
   "cell_type": "code",
   "execution_count": 38,
   "metadata": {},
   "outputs": [
    {
     "name": "stdout",
     "output_type": "stream",
     "text": [
      "Grade is A+\n",
      "87.67\n"
     ]
    }
   ],
   "source": [
    "if TOTAL_PERCENTAGE<60:\n",
    "    print(\"You're Failed\")\n",
    "    print(TOTAL_PERCENTAGE+\"%\")\n",
    "elif TOTAL_PERCENTAGE <70 and TOTAL_PERCENTAGE>60:\n",
    "    print(\"Grade is B\")\n",
    "    print(TOTAL_PERCENTAGE+\"%\")\n",
    "elif TOTAL_PERCENTAGE>70 and TOTAL_PERCENTAGE <80:\n",
    "    print(\"Grade is A\")\n",
    "    print(TOTAL_PERCENTAGE+\"%\")\n",
    "elif TOTAL_PERCENTAGE >80:\n",
    "    print(\"Grade is A+\")\n",
    "    print(TOTAL_PERCENTAGE)"
   ]
  },
  {
   "cell_type": "code",
   "execution_count": null,
   "metadata": {},
   "outputs": [],
   "source": []
  }
 ],
 "metadata": {
  "kernelspec": {
   "display_name": "Python 3",
   "language": "python",
   "name": "python3"
  },
  "language_info": {
   "codemirror_mode": {
    "name": "ipython",
    "version": 3
   },
   "file_extension": ".py",
   "mimetype": "text/x-python",
   "name": "python",
   "nbconvert_exporter": "python",
   "pygments_lexer": "ipython3",
   "version": "3.8.5"
  }
 },
 "nbformat": 4,
 "nbformat_minor": 4
}
